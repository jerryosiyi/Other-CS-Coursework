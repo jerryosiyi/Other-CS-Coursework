{
 "cells": [
  {
   "cell_type": "markdown",
   "metadata": {},
   "source": [
    "## Linear Regression and RANSAC"
   ]
  },
  {
   "cell_type": "raw",
   "metadata": {},
   "source": [
    "This example is adapted from: https://scikit-learn.org/stable/auto_examples/linear_model/plot_ransac.html"
   ]
  },
  {
   "cell_type": "code",
   "execution_count": 1,
   "metadata": {},
   "outputs": [],
   "source": [
    "# Load the modules we need\n",
    "import numpy as np\n",
    "from matplotlib import pyplot as plt\n",
    "from sklearn import linear_model, datasets\n",
    "import random\n",
    "from scipy import stats\n",
    "import math"
   ]
  },
  {
   "cell_type": "code",
   "execution_count": 2,
   "metadata": {},
   "outputs": [],
   "source": [
    "#  Create some intial data\n",
    "n_samples = 1000\n",
    "\n",
    "X, y = datasets.make_regression(n_samples=n_samples, n_features=1,\n",
    "                                      n_informative=1, noise=10,\n",
    "                                      random_state=0)"
   ]
  },
  {
   "cell_type": "code",
   "execution_count": 3,
   "metadata": {},
   "outputs": [],
   "source": [
    "# Add some outlier data\n",
    "np.random.seed(0)\n",
    "n_outliers = 50\n",
    "X[:n_outliers] = 3 + 0.5 * np.random.normal(size=(n_outliers, 1))\n",
    "y[:n_outliers] = -3 + 10 * np.random.normal(size=n_outliers)"
   ]
  },
  {
   "cell_type": "code",
   "execution_count": 4,
   "metadata": {},
   "outputs": [
    {
     "name": "stdout",
     "output_type": "stream",
     "text": [
      "[[-3.04614305]\n",
      " [-2.04614305]\n",
      " [-1.04614305]\n",
      " [-0.04614305]\n",
      " [ 0.95385695]\n",
      " [ 1.95385695]\n",
      " [ 2.95385695]\n",
      " [ 3.95385695]]\n"
     ]
    }
   ],
   "source": [
    "# Create some test positions for for the lines we will draw\n",
    "line_X = np.arange(X.min(), X.max())[:, np.newaxis]\n",
    "print(line_X)"
   ]
  },
  {
   "cell_type": "code",
   "execution_count": 5,
   "metadata": {},
   "outputs": [],
   "source": [
    "def LinearRegression(X, y):\n",
    "    alpha = calAlpha(X, y)\n",
    "    beta = calBeta(X)\n",
    "    gamma = calGamma(X)\n",
    "    delta = calDelta(y)\n",
    "    mandc = calMandC(alpha, beta, gamma, delta)\n",
    "    return mandc"
   ]
  },
  {
   "cell_type": "code",
   "execution_count": 6,
   "metadata": {},
   "outputs": [],
   "source": [
    "def predict(line_X, mandc):\n",
    "    line_y = np.zeros((len(line_X)))\n",
    "    for i in range(len(line_X)):\n",
    "        line_y[i] = mandc[0] * line_X[i] + mandc[1]\n",
    "    return line_y"
   ]
  },
  {
   "cell_type": "code",
   "execution_count": 7,
   "metadata": {},
   "outputs": [],
   "source": [
    "def calAlpha(X, y):\n",
    "    total = 0\n",
    "    for i in range(len(X)):\n",
    "        temp = X[i] * y[i]\n",
    "        total += temp\n",
    "    return total    "
   ]
  },
  {
   "cell_type": "code",
   "execution_count": 8,
   "metadata": {},
   "outputs": [],
   "source": [
    "def calBeta(X):\n",
    "    total = 0\n",
    "    for i in range(len(X)):\n",
    "        temp = X[i] * X[i]\n",
    "        total += temp\n",
    "    return total    "
   ]
  },
  {
   "cell_type": "code",
   "execution_count": 9,
   "metadata": {},
   "outputs": [],
   "source": [
    "def calGamma(X):\n",
    "    total = 0\n",
    "    for i in range(len(X)):\n",
    "        total += X[i]\n",
    "    return total  "
   ]
  },
  {
   "cell_type": "code",
   "execution_count": 10,
   "metadata": {},
   "outputs": [],
   "source": [
    "def calDelta(y):\n",
    "    total = 0\n",
    "    for i in range(len(y)):\n",
    "        total += y[i]\n",
    "    return total  "
   ]
  },
  {
   "cell_type": "code",
   "execution_count": 11,
   "metadata": {},
   "outputs": [],
   "source": [
    "def calMandC(alpha, beta, gamma, delta):\n",
    "    N = len(X)\n",
    "    A = np.array([[beta, gamma],[gamma, N]], dtype='float')\n",
    "    A_inv = np.linalg.inv(A)\n",
    "    B = np.array([[alpha],[delta]], dtype='float')\n",
    "    Ans = A_inv.dot(B)\n",
    "    return Ans"
   ]
  },
  {
   "cell_type": "code",
   "execution_count": 12,
   "metadata": {},
   "outputs": [
    {
     "name": "stdout",
     "output_type": "stream",
     "text": [
      "[-174.38323639 -120.21087252  -66.03850865  -11.86614478   42.30621909\n",
      "   96.47858295  150.65094682  204.82331069]\n"
     ]
    }
   ],
   "source": [
    "lr = LinearRegression(X, y)\n",
    "line_y = predict(line_X, lr)\n",
    "print(line_y)"
   ]
  },
  {
   "cell_type": "code",
   "execution_count": 13,
   "metadata": {},
   "outputs": [],
   "source": [
    "def generate2RandomX(X, y):\n",
    "    coord1 = []\n",
    "    coord2 = []\n",
    "    i = random.randrange(len(X))\n",
    "    coord1.append(X[i])\n",
    "    coord1.append(y[i])\n",
    "    j = random.randrange(len(X))\n",
    "    coord2.append(X[j])\n",
    "    coord2.append(y[j])\n",
    "    return coord1, coord2"
   ]
  },
  {
   "cell_type": "code",
   "execution_count": 14,
   "metadata": {},
   "outputs": [],
   "source": [
    "def findLineEquation(coord1, coord2):\n",
    "    m = (coord2[1] - coord1[1])/(coord2[0] - coord1[0])\n",
    "    c = coord2[1] - coord2[0] * m\n",
    "    return m, c"
   ]
  },
  {
   "cell_type": "code",
   "execution_count": 15,
   "metadata": {},
   "outputs": [],
   "source": [
    "def isInlier(y, yPred, madev):\n",
    "    distance = abs(yPred - y)\n",
    "    if distance < madev:\n",
    "        return True\n",
    "    return False"
   ]
  },
  {
   "cell_type": "code",
   "execution_count": 16,
   "metadata": {},
   "outputs": [],
   "source": [
    "def findInliers(X, y, m, c):\n",
    "    inliersX = []\n",
    "    inliersY = []\n",
    "    threshold = stats.median_absolute_deviation(y)\n",
    "    for i in range(len(X)):\n",
    "        yPred= m * X[i] + c\n",
    "        if isInlier(y[i], yPred, threshold):\n",
    "            inliersX.append(X[i])\n",
    "            inliersY.append(y[i])\n",
    "    return inliersX, inliersY"
   ]
  },
  {
   "cell_type": "code",
   "execution_count": 17,
   "metadata": {},
   "outputs": [],
   "source": [
    "def findInliersMask(X, y, m, c):\n",
    "    inliersMask = np.full((len(X)), False,dtype=bool)\n",
    "    threshold = stats.median_absolute_deviation(y)\n",
    "    for i in range(len(X)):\n",
    "        yPred= m * X[i] + c\n",
    "        if isInlier(y[i], yPred, threshold):\n",
    "            inliersMask[i] = True\n",
    "    return inliersMask"
   ]
  },
  {
   "cell_type": "code",
   "execution_count": 18,
   "metadata": {},
   "outputs": [],
   "source": [
    "def RANSACRegressor():\n",
    "    i = 0\n",
    "    e = n_outliers / n_samples\n",
    "    N = (math.log(1 - 0.99))/(math.log(1 - math.pow((1 - e), 2)))\n",
    "    bestInlierAmount = -1\n",
    "    bestInliersX = []\n",
    "    bestInliersY = []\n",
    "    while i < N:\n",
    "        coord1, coord2 = generate2RandomX(X, y)\n",
    "        m, c = findLineEquation(coord1, coord2)\n",
    "        inliersX, inliersY = findInliers(X, y, m, c)\n",
    "        if bestInlierAmount < 0:\n",
    "            bestInlierAmount = len(inliersX)\n",
    "            bestInliersX = inliersX\n",
    "            bestInliersY = inliersY\n",
    "        if bestInlierAmount < len(inliersX):\n",
    "            bestInlierAmount = len(inliersX)\n",
    "            bestInliersX = inliersX\n",
    "            bestInliersY = inliersY\n",
    "        i += 1\n",
    "    return LinearRegression(bestInliersX, bestInliersY)"
   ]
  },
  {
   "cell_type": "code",
   "execution_count": 19,
   "metadata": {},
   "outputs": [
    {
     "name": "stdout",
     "output_type": "stream",
     "text": [
      "[-249.82117062 -167.73633982  -85.65150902   -3.56667821   78.51815259\n",
      "  160.6029834   242.6878142   324.77264501]\n"
     ]
    }
   ],
   "source": [
    "ransac = RANSACRegressor()\n",
    "line_y_ransac = predict(line_X, ransac)\n",
    "inlier_mask = findInliersMask(X, y, ransac[0], ransac[1])\n",
    "print(line_y_ransac)\n",
    "\n",
    "outlier_mask = np.logical_not(inlier_mask)"
   ]
  },
  {
   "cell_type": "code",
   "execution_count": 20,
   "metadata": {},
   "outputs": [
    {
     "data": {
      "image/png": "[encoded data removed]",
      "text/plain": [
       "<Figure size 432x288 with 1 Axes>"
      ]
     },
     "metadata": {
      "needs_background": "light"
     },
     "output_type": "display_data"
    }
   ],
   "source": [
    "lw = 2\n",
    "\n",
    "doing_linear = True\n",
    "doing_ransac = True\n",
    "\n",
    "if (doing_linear):\n",
    "    plt.plot(line_X, line_y, color='navy', linewidth=lw, label='Linear regressor')\n",
    "\n",
    "if (doing_ransac):\n",
    "    plt.scatter(X[inlier_mask], y[inlier_mask], color='yellowgreen', marker='.', label='Inliers')\n",
    "    plt.scatter(X[outlier_mask], y[outlier_mask], color='gold', marker='.', label='Outliers')\n",
    "    plt.plot(line_X, line_y_ransac, color='cornflowerblue', linewidth=lw, label='RANSAC regressor')\n",
    "else:\n",
    "    plt.scatter(X, y, color='yellowgreen', marker='.', label='Data')\n",
    "    \n",
    "plt.legend(loc='lower right')\n",
    "plt.xlabel(\"Input\")\n",
    "plt.ylabel(\"Response\")\n",
    "plt.show()"
   ]
  },
  {
   "cell_type": "code",
   "execution_count": null,
   "metadata": {},
   "outputs": [],
   "source": []
  },
  {
   "cell_type": "code",
   "execution_count": null,
   "metadata": {},
   "outputs": [],
   "source": []
  }
 ],
 "metadata": {
  "kernelspec": {
   "display_name": "Python 3",
   "language": "python",
   "name": "python3"
  },
  "language_info": {
   "codemirror_mode": {
    "name": "ipython",
    "version": 3
   },
   "file_extension": ".py",
   "mimetype": "text/x-python",
   "name": "python",
   "nbconvert_exporter": "python",
   "pygments_lexer": "ipython3",
   "version": "3.7.4"
  }
 },
 "nbformat": 4,
 "nbformat_minor": 2
}

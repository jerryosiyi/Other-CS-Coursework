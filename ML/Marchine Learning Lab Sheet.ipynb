{
 "cells": [
  {
   "cell_type": "code",
   "execution_count": 7,
   "metadata": {},
   "outputs": [],
   "source": [
    "import pandas as pd\n",
    "import math\n",
    "import random\n",
    "import numpy as np\n",
    "\n",
    "from collections import Counter\n",
    "from sklearn.model_selection import train_test_split\n",
    "from sklearn.preprocessing import StandardScaler\n",
    "from sklearn.neighbors import KNeighborsClassifier \n",
    "from sklearn.metrics import classification_report, confusion_matrix\n",
    "from sklearn import metrics \n",
    "\n",
    "from sklearn.naive_bayes import GaussianNB"
   ]
  },
  {
   "cell_type": "code",
   "execution_count": 8,
   "metadata": {},
   "outputs": [
    {
     "data": {
      "text/html": [
       "<div>\n",
       "<style scoped>\n",
       "    .dataframe tbody tr th:only-of-type {\n",
       "        vertical-align: middle;\n",
       "    }\n",
       "\n",
       "    .dataframe tbody tr th {\n",
       "        vertical-align: top;\n",
       "    }\n",
       "\n",
       "    .dataframe thead th {\n",
       "        text-align: right;\n",
       "    }\n",
       "</style>\n",
       "<table border=\"1\" class=\"dataframe\">\n",
       "  <thead>\n",
       "    <tr style=\"text-align: right;\">\n",
       "      <th></th>\n",
       "      <th>fruit_label</th>\n",
       "      <th>fruit_name</th>\n",
       "      <th>fruit_subtype</th>\n",
       "      <th>mass</th>\n",
       "      <th>width</th>\n",
       "      <th>height</th>\n",
       "      <th>color_score</th>\n",
       "    </tr>\n",
       "  </thead>\n",
       "  <tbody>\n",
       "    <tr>\n",
       "      <td>0</td>\n",
       "      <td>1</td>\n",
       "      <td>apple</td>\n",
       "      <td>granny_smith</td>\n",
       "      <td>192</td>\n",
       "      <td>8.4</td>\n",
       "      <td>7.3</td>\n",
       "      <td>0.55</td>\n",
       "    </tr>\n",
       "    <tr>\n",
       "      <td>1</td>\n",
       "      <td>1</td>\n",
       "      <td>apple</td>\n",
       "      <td>granny_smith</td>\n",
       "      <td>180</td>\n",
       "      <td>8.0</td>\n",
       "      <td>6.8</td>\n",
       "      <td>0.59</td>\n",
       "    </tr>\n",
       "    <tr>\n",
       "      <td>2</td>\n",
       "      <td>1</td>\n",
       "      <td>apple</td>\n",
       "      <td>granny_smith</td>\n",
       "      <td>176</td>\n",
       "      <td>7.4</td>\n",
       "      <td>7.2</td>\n",
       "      <td>0.60</td>\n",
       "    </tr>\n",
       "    <tr>\n",
       "      <td>3</td>\n",
       "      <td>2</td>\n",
       "      <td>mandarin</td>\n",
       "      <td>mandarin</td>\n",
       "      <td>86</td>\n",
       "      <td>6.2</td>\n",
       "      <td>4.7</td>\n",
       "      <td>0.80</td>\n",
       "    </tr>\n",
       "    <tr>\n",
       "      <td>4</td>\n",
       "      <td>2</td>\n",
       "      <td>mandarin</td>\n",
       "      <td>mandarin</td>\n",
       "      <td>84</td>\n",
       "      <td>6.0</td>\n",
       "      <td>4.6</td>\n",
       "      <td>0.79</td>\n",
       "    </tr>\n",
       "  </tbody>\n",
       "</table>\n",
       "</div>"
      ],
      "text/plain": [
       "   fruit_label fruit_name fruit_subtype  mass  width  height  color_score\n",
       "0            1      apple  granny_smith   192    8.4     7.3         0.55\n",
       "1            1      apple  granny_smith   180    8.0     6.8         0.59\n",
       "2            1      apple  granny_smith   176    7.4     7.2         0.60\n",
       "3            2   mandarin      mandarin    86    6.2     4.7         0.80\n",
       "4            2   mandarin      mandarin    84    6.0     4.6         0.79"
      ]
     },
     "execution_count": 8,
     "metadata": {},
     "output_type": "execute_result"
    }
   ],
   "source": [
    "fruit = pd.read_table(\"C:/Users/Jerry Iyi-Ewuare/Downloads/fruit_data_with_colors.txt\");\n",
    "fruit.head()"
   ]
  },
  {
   "cell_type": "code",
   "execution_count": 9,
   "metadata": {},
   "outputs": [
    {
     "data": {
      "text/html": [
       "<div>\n",
       "<style scoped>\n",
       "    .dataframe tbody tr th:only-of-type {\n",
       "        vertical-align: middle;\n",
       "    }\n",
       "\n",
       "    .dataframe tbody tr th {\n",
       "        vertical-align: top;\n",
       "    }\n",
       "\n",
       "    .dataframe thead th {\n",
       "        text-align: right;\n",
       "    }\n",
       "</style>\n",
       "<table border=\"1\" class=\"dataframe\">\n",
       "  <thead>\n",
       "    <tr style=\"text-align: right;\">\n",
       "      <th></th>\n",
       "      <th>mass</th>\n",
       "      <th>width</th>\n",
       "      <th>height</th>\n",
       "      <th>color_score</th>\n",
       "    </tr>\n",
       "  </thead>\n",
       "  <tbody>\n",
       "    <tr>\n",
       "      <td>0</td>\n",
       "      <td>192</td>\n",
       "      <td>8.4</td>\n",
       "      <td>7.3</td>\n",
       "      <td>0.55</td>\n",
       "    </tr>\n",
       "    <tr>\n",
       "      <td>1</td>\n",
       "      <td>180</td>\n",
       "      <td>8.0</td>\n",
       "      <td>6.8</td>\n",
       "      <td>0.59</td>\n",
       "    </tr>\n",
       "    <tr>\n",
       "      <td>2</td>\n",
       "      <td>176</td>\n",
       "      <td>7.4</td>\n",
       "      <td>7.2</td>\n",
       "      <td>0.60</td>\n",
       "    </tr>\n",
       "    <tr>\n",
       "      <td>3</td>\n",
       "      <td>86</td>\n",
       "      <td>6.2</td>\n",
       "      <td>4.7</td>\n",
       "      <td>0.80</td>\n",
       "    </tr>\n",
       "    <tr>\n",
       "      <td>4</td>\n",
       "      <td>84</td>\n",
       "      <td>6.0</td>\n",
       "      <td>4.6</td>\n",
       "      <td>0.79</td>\n",
       "    </tr>\n",
       "  </tbody>\n",
       "</table>\n",
       "</div>"
      ],
      "text/plain": [
       "   mass  width  height  color_score\n",
       "0   192    8.4     7.3         0.55\n",
       "1   180    8.0     6.8         0.59\n",
       "2   176    7.4     7.2         0.60\n",
       "3    86    6.2     4.7         0.80\n",
       "4    84    6.0     4.6         0.79"
      ]
     },
     "execution_count": 9,
     "metadata": {},
     "output_type": "execute_result"
    }
   ],
   "source": [
    "X = fruit[[\"mass\",\"width\",\"height\",\"color_score\"]]\n",
    "X.head()"
   ]
  },
  {
   "cell_type": "code",
   "execution_count": 10,
   "metadata": {},
   "outputs": [
    {
     "data": {
      "text/html": [
       "<div>\n",
       "<style scoped>\n",
       "    .dataframe tbody tr th:only-of-type {\n",
       "        vertical-align: middle;\n",
       "    }\n",
       "\n",
       "    .dataframe tbody tr th {\n",
       "        vertical-align: top;\n",
       "    }\n",
       "\n",
       "    .dataframe thead th {\n",
       "        text-align: right;\n",
       "    }\n",
       "</style>\n",
       "<table border=\"1\" class=\"dataframe\">\n",
       "  <thead>\n",
       "    <tr style=\"text-align: right;\">\n",
       "      <th></th>\n",
       "      <th>fruit_name</th>\n",
       "    </tr>\n",
       "  </thead>\n",
       "  <tbody>\n",
       "    <tr>\n",
       "      <td>0</td>\n",
       "      <td>apple</td>\n",
       "    </tr>\n",
       "    <tr>\n",
       "      <td>1</td>\n",
       "      <td>apple</td>\n",
       "    </tr>\n",
       "    <tr>\n",
       "      <td>2</td>\n",
       "      <td>apple</td>\n",
       "    </tr>\n",
       "    <tr>\n",
       "      <td>3</td>\n",
       "      <td>mandarin</td>\n",
       "    </tr>\n",
       "    <tr>\n",
       "      <td>4</td>\n",
       "      <td>mandarin</td>\n",
       "    </tr>\n",
       "  </tbody>\n",
       "</table>\n",
       "</div>"
      ],
      "text/plain": [
       "  fruit_name\n",
       "0      apple\n",
       "1      apple\n",
       "2      apple\n",
       "3   mandarin\n",
       "4   mandarin"
      ]
     },
     "execution_count": 10,
     "metadata": {},
     "output_type": "execute_result"
    }
   ],
   "source": [
    "y = fruit[[\"fruit_name\"]]\n",
    "y.head()"
   ]
  },
  {
   "cell_type": "code",
   "execution_count": 11,
   "metadata": {},
   "outputs": [],
   "source": [
    "X_train, X_test, y_train, y_test = train_test_split(X, y, test_size = 0.3, random_state = 4321)\n",
    "scaler = StandardScaler()\n",
    "scaler.fit(X_train)\n",
    "\n",
    "X_train = scaler.transform(X_train)  \n",
    "X_test = scaler.transform(X_test)"
   ]
  },
  {
   "cell_type": "code",
   "execution_count": 12,
   "metadata": {},
   "outputs": [
    {
     "name": "stdout",
     "output_type": "stream",
     "text": [
      "[[7 0 0 0]\n",
      " [0 2 0 0]\n",
      " [0 0 3 0]\n",
      " [0 0 0 6]]\n",
      "accuracy score: 1.0\n",
      "[[7 0 0 0]\n",
      " [0 2 0 0]\n",
      " [0 0 3 0]\n",
      " [0 0 0 6]]\n",
      "accuracy score: 1.0\n",
      "[[7 0 0 0]\n",
      " [0 2 0 0]\n",
      " [0 0 3 0]\n",
      " [0 0 0 6]]\n",
      "accuracy score: 1.0\n",
      "[[7 0 0 0]\n",
      " [0 2 0 0]\n",
      " [0 0 3 0]\n",
      " [0 0 0 6]]\n",
      "accuracy score: 1.0\n",
      "[[4 0 0 3]\n",
      " [0 2 0 0]\n",
      " [0 3 0 0]\n",
      " [0 0 0 6]]\n",
      "accuracy score: 0.6666666666666666\n",
      "[[4 0 0 3]\n",
      " [0 2 0 0]\n",
      " [0 3 0 0]\n",
      " [0 1 0 5]]\n",
      "accuracy score: 0.6111111111111112\n",
      "[[2 0 0 5]\n",
      " [0 2 0 0]\n",
      " [0 2 0 1]\n",
      " [0 0 0 6]]\n",
      "accuracy score: 0.5555555555555556\n",
      "[[2 0 0 5]\n",
      " [0 2 0 0]\n",
      " [0 2 0 1]\n",
      " [0 2 0 4]]\n",
      "accuracy score: 0.4444444444444444\n"
     ]
    }
   ],
   "source": [
    "for i in range(1,9):\n",
    "    KNclassifier = KNeighborsClassifier(n_neighbors = i)  \n",
    "    KNclassifier.fit(X_train, y_train.values.ravel())\n",
    "    y_prediction = KNclassifier.predict(X_test)\n",
    "    print(confusion_matrix(y_test, y_prediction))\n",
    "    print(\"accuracy score:\", metrics.accuracy_score(y_test, y_prediction))"
   ]
  },
  {
   "cell_type": "code",
   "execution_count": 13,
   "metadata": {},
   "outputs": [
    {
     "name": "stdout",
     "output_type": "stream",
     "text": [
      "[[7 0 0 0]\n",
      " [0 2 0 0]\n",
      " [0 0 3 0]\n",
      " [2 0 0 4]]\n",
      "accuracy score: 0.8888888888888888\n"
     ]
    }
   ],
   "source": [
    "Gclassifier = GaussianNB()  \n",
    "Gclassifier.fit(X_train, y_train.values.ravel())\n",
    "y_prediction = Gclassifier.predict(X_test)\n",
    "print(confusion_matrix(y_test, y_prediction))\n",
    "print(\"accuracy score:\", metrics.accuracy_score(y_test, y_prediction))"
   ]
  },
  {
   "cell_type": "code",
   "execution_count": 220,
   "metadata": {},
   "outputs": [],
   "source": [
    "def uniqueSet(dataset):\n",
    "    result = set(dataset)\n",
    "    return result"
   ]
  },
  {
   "cell_type": "code",
   "execution_count": 221,
   "metadata": {},
   "outputs": [],
   "source": [
    "def createDict(dataset):\n",
    "    result = dict()\n",
    "    for i in dataset:\n",
    "        result[i] = []\n",
    "    return result"
   ]
  },
  {
   "cell_type": "code",
   "execution_count": 222,
   "metadata": {},
   "outputs": [],
   "source": [
    "def createClass(diction, dataset):\n",
    "    newset = set()\n",
    "    while len(dataset) > 0:\n",
    "        newset.add(dataset.pop())\n",
    "    for i in diction:\n",
    "        name = newset.pop()\n",
    "        diction[i] = fruit(name)\n",
    "    return diction"
   ]
  },
  {
   "cell_type": "code",
   "execution_count": 1,
   "metadata": {},
   "outputs": [],
   "source": [
    "def adddatatoclass(X, y, dictionary):\n",
    "    keys = list(dictionary.keys())\n",
    "    types = list(y)\n",
    "    for k in keys:\n",
    "        for i in range (len(types)):\n",
    "            if k == types[i]:\n",
    "               dictionary[k].add(X[i]) "
   ]
  },
  {
   "cell_type": "code",
   "execution_count": 224,
   "metadata": {},
   "outputs": [],
   "source": [
    "def createarrayofmeans(classdict):\n",
    "    keys = list(classdict.keys())\n",
    "    model = {}\n",
    "    meanarray = []\n",
    "    for k in keys:\n",
    "        model[k] = []\n",
    "    for k in keys:\n",
    "        for i in range(4):\n",
    "            meanarray.append(classdict[k].mean(i))\n",
    "        model[k] = meanarray.copy()\n",
    "        meanarray.clear()\n",
    "    return model"
   ]
  },
  {
   "cell_type": "code",
   "execution_count": 225,
   "metadata": {},
   "outputs": [],
   "source": [
    "def createarrayofstdev(classdict):\n",
    "    keys = list(classdict.keys())\n",
    "    model = {}\n",
    "    meanarray = []\n",
    "    for k in keys:\n",
    "        model[k] = []\n",
    "    for k in keys:\n",
    "        for i in range(4):\n",
    "            average = classdict[k].mean(i)\n",
    "            meanarray.append(classdict[k].stdev(i, average))\n",
    "        model[k] = meanarray.copy()\n",
    "        meanarray.clear()\n",
    "    return model"
   ]
  },
  {
   "cell_type": "code",
   "execution_count": 226,
   "metadata": {},
   "outputs": [],
   "source": [
    "def calpdf(rows, modelmean, modelstdev, classdict):\n",
    "    totalsize = 0\n",
    "    keys = list(modelmean.keys())\n",
    "    model = {}\n",
    "    for k in keys:\n",
    "        model[k] = 1\n",
    "        totalsize = totalsize + classdict[k].size\n",
    "    for k in keys:\n",
    "        totalprob = 1\n",
    "        for i in range(4):\n",
    "            exponent = math.exp(-(math.pow(rows[i] - modelmean[k][i], 2)/(2 * math.pow(modelstdev[k][i], 2))))\n",
    "            pdf = (1/(math.sqrt(2 * math.pi) * modelstdev[k][i]))*exponent\n",
    "            totalprob *= pdf\n",
    "        totalprob *= (classdict[k].size/totalsize)\n",
    "        model[k] = totalprob\n",
    "    return model"
   ]
  },
  {
   "cell_type": "code",
   "execution_count": 227,
   "metadata": {},
   "outputs": [],
   "source": [
    "def predict(modelmean, modelstdev, classdict, rows):\n",
    "    probabilities = calpdf(rows, modelmean, modelstdev, classdict)\n",
    "    bestLabel, bestProb = None, -1\n",
    "    for labels in probabilities:\n",
    "        if bestLabel is None or probabilities[labels] > bestProb:\n",
    "            bestProb = probabilities[labels]\n",
    "            bestLabel = labels\n",
    "    return bestLabel"
   ]
  },
  {
   "cell_type": "code",
   "execution_count": 228,
   "metadata": {},
   "outputs": [],
   "source": [
    "def getPredictions(modelmean, modelstdev, classdict, X):\n",
    "    predictions = []\n",
    "    for rows in X:\n",
    "        result = predict(modelmean, modelstdev, classdict, rows)\n",
    "        predictions.append(result)\n",
    "    return predictions"
   ]
  },
  {
   "cell_type": "code",
   "execution_count": 229,
   "metadata": {},
   "outputs": [],
   "source": [
    "class fruit:\n",
    "    def __init__(self, label):\n",
    "        self.label = label\n",
    "        self.data = []\n",
    "        self.size = 0\n",
    "        \n",
    "    def add(self, newdata):\n",
    "        self.data.append(newdata)\n",
    "        self.size = self.size + 1\n",
    "    \n",
    "    def mean(self, index):\n",
    "        total = 0\n",
    "        for i in range(self.size):\n",
    "            total = total + self.data[i][index]\n",
    "        return total/(len(self.data))\n",
    "        \n",
    "    def stdev(self, index, average):\n",
    "        total = 0\n",
    "        for i in range(self.size):\n",
    "            total = total + pow(self.data[i][index] - average, 2)\n",
    "        variance = (total)/float(len(self.data)-1)\n",
    "        return math.sqrt(variance)"
   ]
  },
  {
   "cell_type": "code",
   "execution_count": 230,
   "metadata": {},
   "outputs": [
    {
     "name": "stdout",
     "output_type": "stream",
     "text": [
      "[[7 0 0 0]\n",
      " [0 2 0 0]\n",
      " [0 0 3 0]\n",
      " [2 0 0 4]]\n",
      "accuracy score: 0.8888888888888888\n"
     ]
    }
   ],
   "source": [
    "result = uniqueSet(y_train['fruit_name'])\n",
    "diction = createDict(result)\n",
    "classdict = createClass(diction, result)\n",
    "adddatatoclass(X_train, y_train['fruit_name'], classdict)\n",
    "modelmean = createarrayofmeans(classdict)\n",
    "modelstdev = createarrayofstdev(classdict)\n",
    "predictions = getPredictions(modelmean, modelstdev, classdict, X_test)\n",
    "print(confusion_matrix(y_test, predictions))\n",
    "print(\"accuracy score:\", metrics.accuracy_score(y_test, predictions))"
   ]
  },
  {
   "cell_type": "code",
   "execution_count": null,
   "metadata": {},
   "outputs": [],
   "source": []
  }
 ],
 "metadata": {
  "kernelspec": {
   "display_name": "Python 3",
   "language": "python",
   "name": "python3"
  },
  "language_info": {
   "codemirror_mode": {
    "name": "ipython",
    "version": 3
   },
   "file_extension": ".py",
   "mimetype": "text/x-python",
   "name": "python",
   "nbconvert_exporter": "python",
   "pygments_lexer": "ipython3",
   "version": "3.7.4"
  }
 },
 "nbformat": 4,
 "nbformat_minor": 2
}

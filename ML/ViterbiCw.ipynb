{
 "cells": [
  {
   "cell_type": "code",
   "execution_count": 1,
   "metadata": {},
   "outputs": [],
   "source": [
    "Sts = [\"L\", \"H\"]\n",
    "Obsv = [\"A\", \"C\", \"T\", \"G\"]\n",
    "Seq = [\"G\",\"G\",\"C\",\"A\",\"C\",\"T\",\"G\",\"A\",\"A\"]\n",
    "Trans_M = {\n",
    "    \"L\":{\"L\":-0.737, \"H\":-1.322}, \n",
    "    \"H\":{\"L\":-1,     \"H\":-1}\n",
    "    }\n",
    "Obsv_M = {\n",
    "    \"L\":{\"A\":-1.737, \"C\":-2.322, \"G\":-2.322, \"T\":-1.737},\n",
    "    \"H\":{\"A\":-2.322, \"C\":-1.737, \"G\":-1.737, \"T\":-2.322}\n",
    "    }\n",
    "BestStates = [None for x in range(9)]\n",
    "BestProbs = [0 for x in range(9)]\n",
    "row1 = [None for x in range(9)]\n",
    "row2 = [None for x in range(9)]\n",
    "Table = {\"H\": row1, \"L\": row2}"
   ]
  },
  {
   "cell_type": "code",
   "execution_count": 2,
   "metadata": {},
   "outputs": [],
   "source": [
    "def cal(k, t, i):\n",
    "    if t == 0:\n",
    "        x = round(-1 + Obsv_M[k][i], 2)\n",
    "        if BestStates[t] is None:\n",
    "            BestStates[t] = k\n",
    "            BestProbs[t] = x\n",
    "        if BestStates[t] is not None:\n",
    "            if x > BestProbs[t]:\n",
    "                BestStates[t] = k\n",
    "                BestProbs[t] = x \n",
    "        Table[k][t] = x\n",
    "        return x\n",
    "    Prob1 = cal(Sts[0], t-1, Seq[t-1]) + Trans_M[Sts[0]][k]\n",
    "    Prob2 = cal(Sts[1], t-1, Seq[t-1]) + Trans_M[Sts[1]][k]\n",
    "    BestProb = max(Prob1, Prob2)\n",
    "    \n",
    "    result = round(Obsv_M[k][i] + BestProb, 2)\n",
    "    Table[k][t] = result \n",
    "    \n",
    "    if BestStates[t] is None:\n",
    "        BestStates[t] = k\n",
    "        BestProbs[t] = result\n",
    "    if BestStates[t] is not None:\n",
    "        if result > BestProbs[t]:\n",
    "            BestStates[t] = k\n",
    "            BestProbs[t] = result        \n",
    "    return result"
   ]
  },
  {
   "cell_type": "code",
   "execution_count": 3,
   "metadata": {},
   "outputs": [],
   "source": [
    "def Viterbi():\n",
    "    t = 8\n",
    "    for j in range(2):\n",
    "        result = cal(Sts[j], t, Seq[t])"
   ]
  },
  {
   "cell_type": "code",
   "execution_count": 4,
   "metadata": {},
   "outputs": [
    {
     "name": "stdout",
     "output_type": "stream",
     "text": [
      "['H', 'H', 'H', 'L', 'L', 'L', 'L', 'L', 'L']\n",
      "{'H': [-2.74, -5.48, -8.22, -11.54, -14.02, -17.34, -19.55, -22.87, -25.66], 'L': [-3.32, -6.06, -8.8, -10.96, -14.02, -16.49, -19.55, -22.02, -24.49]}\n"
     ]
    }
   ],
   "source": [
    "Viterbi()\n",
    "print(BestStates)\n",
    "print(Table)"
   ]
  }
 ],
 "metadata": {
  "kernelspec": {
   "display_name": "Python 3",
   "language": "python",
   "name": "python3"
  },
  "language_info": {
   "codemirror_mode": {
    "name": "ipython",
    "version": 3
   },
   "file_extension": ".py",
   "mimetype": "text/x-python",
   "name": "python",
   "nbconvert_exporter": "python",
   "pygments_lexer": "ipython3",
   "version": "3.7.4"
  }
 },
 "nbformat": 4,
 "nbformat_minor": 2
}

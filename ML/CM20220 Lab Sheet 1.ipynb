{
 "cells": [
  {
   "cell_type": "code",
   "execution_count": 2,
   "metadata": {},
   "outputs": [],
   "source": [
    "import pandas as pd\n",
    "import math\n",
    "import random\n",
    "import numpy as np\n",
    "\n",
    "from collections import Counter\n",
    "from sklearn.model_selection import train_test_split\n",
    "from sklearn.preprocessing import StandardScaler\n",
    "from sklearn.neighbors import KNeighborsClassifier \n",
    "from sklearn.metrics import classification_report, confusion_matrix\n",
    "from sklearn import metrics \n",
    "\n",
    "from sklearn.naive_bayes import GaussianNB"
   ]
  },
  {
   "cell_type": "code",
   "execution_count": 3,
   "metadata": {},
   "outputs": [
    {
     "data": {
      "text/html": [
       "<div>\n",
       "<style scoped>\n",
       "    .dataframe tbody tr th:only-of-type {\n",
       "        vertical-align: middle;\n",
       "    }\n",
       "\n",
       "    .dataframe tbody tr th {\n",
       "        vertical-align: top;\n",
       "    }\n",
       "\n",
       "    .dataframe thead th {\n",
       "        text-align: right;\n",
       "    }\n",
       "</style>\n",
       "<table border=\"1\" class=\"dataframe\">\n",
       "  <thead>\n",
       "    <tr style=\"text-align: right;\">\n",
       "      <th></th>\n",
       "      <th>fruit_label</th>\n",
       "      <th>fruit_name</th>\n",
       "      <th>fruit_subtype</th>\n",
       "      <th>mass</th>\n",
       "      <th>width</th>\n",
       "      <th>height</th>\n",
       "      <th>color_score</th>\n",
       "    </tr>\n",
       "  </thead>\n",
       "  <tbody>\n",
       "    <tr>\n",
       "      <td>0</td>\n",
       "      <td>1</td>\n",
       "      <td>apple</td>\n",
       "      <td>granny_smith</td>\n",
       "      <td>192</td>\n",
       "      <td>8.4</td>\n",
       "      <td>7.3</td>\n",
       "      <td>0.55</td>\n",
       "    </tr>\n",
       "    <tr>\n",
       "      <td>1</td>\n",
       "      <td>1</td>\n",
       "      <td>apple</td>\n",
       "      <td>granny_smith</td>\n",
       "      <td>180</td>\n",
       "      <td>8.0</td>\n",
       "      <td>6.8</td>\n",
       "      <td>0.59</td>\n",
       "    </tr>\n",
       "    <tr>\n",
       "      <td>2</td>\n",
       "      <td>1</td>\n",
       "      <td>apple</td>\n",
       "      <td>granny_smith</td>\n",
       "      <td>176</td>\n",
       "      <td>7.4</td>\n",
       "      <td>7.2</td>\n",
       "      <td>0.60</td>\n",
       "    </tr>\n",
       "    <tr>\n",
       "      <td>3</td>\n",
       "      <td>2</td>\n",
       "      <td>mandarin</td>\n",
       "      <td>mandarin</td>\n",
       "      <td>86</td>\n",
       "      <td>6.2</td>\n",
       "      <td>4.7</td>\n",
       "      <td>0.80</td>\n",
       "    </tr>\n",
       "    <tr>\n",
       "      <td>4</td>\n",
       "      <td>2</td>\n",
       "      <td>mandarin</td>\n",
       "      <td>mandarin</td>\n",
       "      <td>84</td>\n",
       "      <td>6.0</td>\n",
       "      <td>4.6</td>\n",
       "      <td>0.79</td>\n",
       "    </tr>\n",
       "  </tbody>\n",
       "</table>\n",
       "</div>"
      ],
      "text/plain": [
       "   fruit_label fruit_name fruit_subtype  mass  width  height  color_score\n",
       "0            1      apple  granny_smith   192    8.4     7.3         0.55\n",
       "1            1      apple  granny_smith   180    8.0     6.8         0.59\n",
       "2            1      apple  granny_smith   176    7.4     7.2         0.60\n",
       "3            2   mandarin      mandarin    86    6.2     4.7         0.80\n",
       "4            2   mandarin      mandarin    84    6.0     4.6         0.79"
      ]
     },
     "execution_count": 3,
     "metadata": {},
     "output_type": "execute_result"
    }
   ],
   "source": [
    "fruit = pd.read_table(\"C:/Users/Jerry Iyi-Ewuare/Downloads/fruit_data_with_colors.txt\");\n",
    "fruit.head()"
   ]
  },
  {
   "cell_type": "code",
   "execution_count": 4,
   "metadata": {},
   "outputs": [
    {
     "data": {
      "text/html": [
       "<div>\n",
       "<style scoped>\n",
       "    .dataframe tbody tr th:only-of-type {\n",
       "        vertical-align: middle;\n",
       "    }\n",
       "\n",
       "    .dataframe tbody tr th {\n",
       "        vertical-align: top;\n",
       "    }\n",
       "\n",
       "    .dataframe thead th {\n",
       "        text-align: right;\n",
       "    }\n",
       "</style>\n",
       "<table border=\"1\" class=\"dataframe\">\n",
       "  <thead>\n",
       "    <tr style=\"text-align: right;\">\n",
       "      <th></th>\n",
       "      <th>mass</th>\n",
       "      <th>width</th>\n",
       "      <th>height</th>\n",
       "      <th>color_score</th>\n",
       "    </tr>\n",
       "  </thead>\n",
       "  <tbody>\n",
       "    <tr>\n",
       "      <td>0</td>\n",
       "      <td>192</td>\n",
       "      <td>8.4</td>\n",
       "      <td>7.3</td>\n",
       "      <td>0.55</td>\n",
       "    </tr>\n",
       "    <tr>\n",
       "      <td>1</td>\n",
       "      <td>180</td>\n",
       "      <td>8.0</td>\n",
       "      <td>6.8</td>\n",
       "      <td>0.59</td>\n",
       "    </tr>\n",
       "    <tr>\n",
       "      <td>2</td>\n",
       "      <td>176</td>\n",
       "      <td>7.4</td>\n",
       "      <td>7.2</td>\n",
       "      <td>0.60</td>\n",
       "    </tr>\n",
       "    <tr>\n",
       "      <td>3</td>\n",
       "      <td>86</td>\n",
       "      <td>6.2</td>\n",
       "      <td>4.7</td>\n",
       "      <td>0.80</td>\n",
       "    </tr>\n",
       "    <tr>\n",
       "      <td>4</td>\n",
       "      <td>84</td>\n",
       "      <td>6.0</td>\n",
       "      <td>4.6</td>\n",
       "      <td>0.79</td>\n",
       "    </tr>\n",
       "  </tbody>\n",
       "</table>\n",
       "</div>"
      ],
      "text/plain": [
       "   mass  width  height  color_score\n",
       "0   192    8.4     7.3         0.55\n",
       "1   180    8.0     6.8         0.59\n",
       "2   176    7.4     7.2         0.60\n",
       "3    86    6.2     4.7         0.80\n",
       "4    84    6.0     4.6         0.79"
      ]
     },
     "execution_count": 4,
     "metadata": {},
     "output_type": "execute_result"
    }
   ],
   "source": [
    "X = fruit[[\"mass\",\"width\",\"height\",\"color_score\"]]\n",
    "X.head()"
   ]
  },
  {
   "cell_type": "code",
   "execution_count": 5,
   "metadata": {},
   "outputs": [
    {
     "data": {
      "text/html": [
       "<div>\n",
       "<style scoped>\n",
       "    .dataframe tbody tr th:only-of-type {\n",
       "        vertical-align: middle;\n",
       "    }\n",
       "\n",
       "    .dataframe tbody tr th {\n",
       "        vertical-align: top;\n",
       "    }\n",
       "\n",
       "    .dataframe thead th {\n",
       "        text-align: right;\n",
       "    }\n",
       "</style>\n",
       "<table border=\"1\" class=\"dataframe\">\n",
       "  <thead>\n",
       "    <tr style=\"text-align: right;\">\n",
       "      <th></th>\n",
       "      <th>fruit_name</th>\n",
       "    </tr>\n",
       "  </thead>\n",
       "  <tbody>\n",
       "    <tr>\n",
       "      <td>0</td>\n",
       "      <td>apple</td>\n",
       "    </tr>\n",
       "    <tr>\n",
       "      <td>1</td>\n",
       "      <td>apple</td>\n",
       "    </tr>\n",
       "    <tr>\n",
       "      <td>2</td>\n",
       "      <td>apple</td>\n",
       "    </tr>\n",
       "    <tr>\n",
       "      <td>3</td>\n",
       "      <td>mandarin</td>\n",
       "    </tr>\n",
       "    <tr>\n",
       "      <td>4</td>\n",
       "      <td>mandarin</td>\n",
       "    </tr>\n",
       "  </tbody>\n",
       "</table>\n",
       "</div>"
      ],
      "text/plain": [
       "  fruit_name\n",
       "0      apple\n",
       "1      apple\n",
       "2      apple\n",
       "3   mandarin\n",
       "4   mandarin"
      ]
     },
     "execution_count": 5,
     "metadata": {},
     "output_type": "execute_result"
    }
   ],
   "source": [
    "y = fruit[[\"fruit_name\"]]\n",
    "y.head()"
   ]
  },
  {
   "cell_type": "code",
   "execution_count": 6,
   "metadata": {},
   "outputs": [],
   "source": [
    "X_train, X_test, y_train, y_test = train_test_split(X, y, test_size = 0.3, random_state = 4321)\n",
    "scaler = StandardScaler()\n",
    "scaler.fit(X_train)\n",
    "\n",
    "X_train = scaler.transform(X_train)  \n",
    "X_test = scaler.transform(X_test)"
   ]
  },
  {
   "cell_type": "code",
   "execution_count": 7,
   "metadata": {},
   "outputs": [
    {
     "name": "stdout",
     "output_type": "stream",
     "text": [
      "[[7 0 0 0]\n",
      " [0 2 0 0]\n",
      " [0 0 3 0]\n",
      " [0 0 0 6]]\n",
      "accuracy score: 1.0\n",
      "[[7 0 0 0]\n",
      " [0 2 0 0]\n",
      " [0 0 3 0]\n",
      " [0 0 0 6]]\n",
      "accuracy score: 1.0\n",
      "[[7 0 0 0]\n",
      " [0 2 0 0]\n",
      " [0 0 3 0]\n",
      " [0 0 0 6]]\n",
      "accuracy score: 1.0\n",
      "[[7 0 0 0]\n",
      " [0 2 0 0]\n",
      " [0 0 3 0]\n",
      " [0 0 0 6]]\n",
      "accuracy score: 1.0\n",
      "[[4 0 0 3]\n",
      " [0 2 0 0]\n",
      " [0 3 0 0]\n",
      " [0 0 0 6]]\n",
      "accuracy score: 0.6666666666666666\n",
      "[[4 0 0 3]\n",
      " [0 2 0 0]\n",
      " [0 3 0 0]\n",
      " [0 1 0 5]]\n",
      "accuracy score: 0.6111111111111112\n",
      "[[2 0 0 5]\n",
      " [0 2 0 0]\n",
      " [0 2 0 1]\n",
      " [0 0 0 6]]\n",
      "accuracy score: 0.5555555555555556\n",
      "[[2 0 0 5]\n",
      " [0 2 0 0]\n",
      " [0 2 0 1]\n",
      " [0 2 0 4]]\n",
      "accuracy score: 0.4444444444444444\n"
     ]
    }
   ],
   "source": [
    "for i in range(1,9):\n",
    "    KNclassifier = KNeighborsClassifier(n_neighbors = i)  \n",
    "    KNclassifier.fit(X_train, y_train.values.ravel())\n",
    "    y_prediction = KNclassifier.predict(X_test)\n",
    "    print(confusion_matrix(y_test, y_prediction))\n",
    "    print(\"accuracy score:\", metrics.accuracy_score(y_test, y_prediction))"
   ]
  },
  {
   "cell_type": "code",
   "execution_count": 8,
   "metadata": {},
   "outputs": [
    {
     "name": "stdout",
     "output_type": "stream",
     "text": [
      "[[7 0 0 0]\n",
      " [0 2 0 0]\n",
      " [0 0 3 0]\n",
      " [2 0 0 4]]\n",
      "accuracy score: 0.8888888888888888\n"
     ]
    }
   ],
   "source": [
    "Gclassifier = GaussianNB()  \n",
    "Gclassifier.fit(X_train, y_train.values.ravel())\n",
    "y_prediction = Gclassifier.predict(X_test)\n",
    "print(confusion_matrix(y_test, y_prediction))\n",
    "print(\"accuracy score:\", metrics.accuracy_score(y_test, y_prediction))"
   ]
  },
  {
   "cell_type": "code",
   "execution_count": 228,
   "metadata": {},
   "outputs": [],
   "source": [
    "def separatebyclass(X, y):\n",
    "    separated = {}\n",
    "    print(len(y))\n",
    "    index = 0\n",
    "    for rows in y.iterrows():\n",
    "        label = rows['fruit_name']\n",
    "        separated[label] = []\n",
    "    for label in separated:\n",
    "        separated[label].append(X[index])\n",
    "        index = index + 1\n",
    "    return separated        "
   ]
  },
  {
   "cell_type": "code",
   "execution_count": 142,
   "metadata": {},
   "outputs": [],
   "source": [
    "def countOccurance(y):\n",
    "    #occurance = y[\"fruit_name\"].value_counts()\n",
    "    labels = y['fruit_name'].value_counts().keys().tolist()\n",
    "    counts = y['fruit_name'].value_counts().tolist()\n",
    "    \n",
    "    occurance = {}\n",
    "    index = 0\n",
    "    for i in labels:\n",
    "        if i not in occurance:\n",
    "            occurance[i] = 0\n",
    "        occurance[i] = counts[index]\n",
    "        index = index + 1\n",
    "    return occurance"
   ]
  },
  {
   "cell_type": "code",
   "execution_count": 50,
   "metadata": {},
   "outputs": [],
   "source": [
    "def mean(values):\n",
    "    return sum(values)/float(len(values))"
   ]
  },
  {
   "cell_type": "code",
   "execution_count": 67,
   "metadata": {},
   "outputs": [],
   "source": [
    "def stdev(values):\n",
    "    average = mean(values)\n",
    "    variance = (sum([pow(x - average, 2) for x in values]))/float(len(values)-1)\n",
    "    return math.sqrt(variance)"
   ]
  },
  {
   "cell_type": "code",
   "execution_count": 111,
   "metadata": {},
   "outputs": [],
   "source": [
    "def model(X):\n",
    "    result = [(mean(i), stdev(i)) for i in X]\n",
    "    return result"
   ]
  },
  {
   "cell_type": "code",
   "execution_count": 169,
   "metadata": {},
   "outputs": [],
   "source": [
    "def modelbyclass(X, y):\n",
    "    separated = separatebyclass(X, y)\n",
    "    print(separated)\n",
    "    classModels = {}\n",
    "    for labels in separated:\n",
    "        classModels[labels] = model(separated[labels])\n",
    "    return classModels"
   ]
  },
  {
   "cell_type": "code",
   "execution_count": 109,
   "metadata": {},
   "outputs": [],
   "source": [
    "def calculatePdf(x, mean, stdev):\n",
    "    exponent = math.exp(-(math.pow(x-mean, 2)/(2 * math.pow(stdev, 2))))\n",
    "    return (1/(math.sqrt(2 * math.pi) * stdev))*exponent"
   ]
  },
  {
   "cell_type": "code",
   "execution_count": 187,
   "metadata": {},
   "outputs": [],
   "source": [
    "def calclassprob(models, i):\n",
    "    probabilities = {}\n",
    "    occurance = countOccurance(y_train)\n",
    "    index = 0\n",
    "    for labels in models:\n",
    "        probabilities[labels] = 1\n",
    "    for labels in models:\n",
    "        values = models[labels]\n",
    "        probabilities[labels]  *= calculatePdf(i[index], values[0][0], values[0][1])\n",
    "        index = index + 1\n",
    "    for label in probabilities:\n",
    "        for keys in occurance:\n",
    "            if labels == keys:\n",
    "                probabilities[label] *= (occurance[keys]/41)\n",
    "    return probabilities"
   ]
  },
  {
   "cell_type": "code",
   "execution_count": 172,
   "metadata": {},
   "outputs": [],
   "source": [
    "def predict(models, i):\n",
    "    probabilities = calclassprob(models, i)\n",
    "    bestLabel, bestProb = None, -1\n",
    "    for labels in probabilities:\n",
    "        if bestLabel is None or probability > bestProb:\n",
    "            bestProb = probabilities[labels]\n",
    "            bestLabel = labels\n",
    "    return bestLabel"
   ]
  },
  {
   "cell_type": "code",
   "execution_count": 183,
   "metadata": {},
   "outputs": [],
   "source": [
    "def getPredictions(models, X):\n",
    "    predictions = []\n",
    "    for i in X:\n",
    "        result = predict(models, i)\n",
    "        predictions.append(result)\n",
    "    return predictions"
   ]
  },
  {
   "cell_type": "code",
   "execution_count": 14,
   "metadata": {},
   "outputs": [
    {
     "name": "stdout",
     "output_type": "stream",
     "text": [
      "\n",
      "orange      19\n",
      "apple       19\n",
      "lemon       16\n",
      "mandarin     5\n",
      "Name: fruit_name, dtype: int64\n",
      "lemon       14\n",
      "orange      13\n",
      "apple       12\n",
      "mandarin     2\n",
      "Name: fruit_name, dtype: int64\n",
      "['orange', 'apple', 'lemon', 'mandarin']\n",
      "[19, 19, 16, 5]\n"
     ]
    }
   ],
   "source": [
    "# models = modelbyclass(X_train, y_train)\n",
    "# predictions = getPredictions(models, X_test)\n",
    "# print(predictions)\n",
    "print(confusion_matrix(y_test, predictions))\n",
    "print(\"accuracy score:\", metrics.accuracy_score(y_test, predictions))\n",
    "print()\n",
    "print(y[\"fruit_name\"].value_counts())\n",
    "print(y_train[\"fruit_name\"].value_counts())\n",
    "\n",
    "labels = y['fruit_name'].value_counts().keys().tolist()\n",
    "print(labels)\n",
    "counts = y['fruit_name'].value_counts().tolist()\n",
    "print(counts)"
   ]
  },
  {
   "cell_type": "code",
   "execution_count": null,
   "metadata": {},
   "outputs": [],
   "source": []
  }
 ],
 "metadata": {
  "kernelspec": {
   "display_name": "Python 3",
   "language": "python",
   "name": "python3"
  },
  "language_info": {
   "codemirror_mode": {
    "name": "ipython",
    "version": 3
   },
   "file_extension": ".py",
   "mimetype": "text/x-python",
   "name": "python",
   "nbconvert_exporter": "python",
   "pygments_lexer": "ipython3",
   "version": "3.7.4"
  }
 },
 "nbformat": 4,
 "nbformat_minor": 2
}
